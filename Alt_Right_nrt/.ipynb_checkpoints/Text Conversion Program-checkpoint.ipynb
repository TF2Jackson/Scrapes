{
 "cells": [
  {
   "cell_type": "code",
   "execution_count": 1,
   "metadata": {},
   "outputs": [
    {
     "data": {
      "text/plain": [
       "'/Users/anthonyformica/Desktop/Spring_2020/LupEye/SCII/Alt_Right_nrt'"
      ]
     },
     "execution_count": 1,
     "metadata": {},
     "output_type": "execute_result"
    }
   ],
   "source": [
    "pwd"
   ]
  },
  {
   "cell_type": "code",
   "execution_count": null,
   "metadata": {},
   "outputs": [],
   "source": [
    "import datetime\n",
    "from datetime import date\n",
    "import csv\n",
    "\n",
    "today = date.today()\n",
    "\n",
    "files = ['#Alt_Right_NRT_2020-03-10.csv',\n",
    "         '#Alt_Right__NRT_2020-02-09.csv',\n",
    "        ]\n",
    "\n",
    "for i in files:\n",
    "    name = f'{i}.txt'\n",
    "    txt = []\n",
    "    \n",
    "    with open(i,'r', errors='ignore') as fo:\n",
    "        rows = csv.reader(fo)\n",
    "        for x in rows:\n",
    "            txt.append(x[1])\n",
    "            text = str(txt)\n",
    "    with open(f'{name}', 'w') as fo1:\n",
    "        fo1.write(text)  \n",
    "            \n",
    "                \n",
    "            \n",
    "            \n",
    "        "
   ]
  }
 ],
 "metadata": {
  "kernelspec": {
   "display_name": "Python 3",
   "language": "python",
   "name": "python3"
  },
  "language_info": {
   "codemirror_mode": {
    "name": "ipython",
    "version": 3
   },
   "file_extension": ".py",
   "mimetype": "text/x-python",
   "name": "python",
   "nbconvert_exporter": "python",
   "pygments_lexer": "ipython3",
   "version": "3.7.4"
  }
 },
 "nbformat": 4,
 "nbformat_minor": 2
}
