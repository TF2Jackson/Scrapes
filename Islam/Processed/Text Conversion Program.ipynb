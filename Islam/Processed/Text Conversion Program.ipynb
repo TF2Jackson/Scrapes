{
 "cells": [
  {
   "cell_type": "code",
   "execution_count": 7,
   "metadata": {},
   "outputs": [],
   "source": [
    "import datetime\n",
    "from datetime import date\n",
    "import csv\n",
    "\n",
    "today = date.today()\n",
    "\n",
    "files = [\n",
    "         '#Islam_2020-02-26.csv', \n",
    "         '#Islam_2020-02-27.csv', \n",
    "         '#Islam_2020-02-28.csv', \n",
    "         '#Islam_2020-03-01.csv', \n",
    "         '#Islam_2020-03-02.csv', \n",
    "         '#Islam_2020-03-03.csv', \n",
    "         '#Islam_2020-03-04.csv', \n",
    "         '#Islam_2020-03-05.csv', \n",
    "         '#Islam_2020-03-06.csv', \n",
    "         '#Islam_2020-03-07.csv', \n",
    "         '#Islam_2020-03-08.csv', \n",
    "         '#Islam_2020-03-09.csv', \n",
    "         '#Islam_2020-03-10.csv', \n",
    "        ]\n",
    "\n",
    "for i in files:\n",
    "    name = f'{i}.txt'\n",
    "    txt = []\n",
    "    \n",
    "    with open(i,'r', errors='ignore') as fo:\n",
    "        rows = csv.reader(fo)\n",
    "        for x in rows:\n",
    "            txt.append(x[1])\n",
    "            text = str(txt)\n",
    "    with open(f'{name}', 'w') as fo1:\n",
    "        fo1.write(text)  \n",
    "            \n",
    "                \n",
    "            \n",
    "            \n",
    "        "
   ]
  }
 ],
 "metadata": {
  "kernelspec": {
   "display_name": "Python 3",
   "language": "python",
   "name": "python3"
  },
  "language_info": {
   "codemirror_mode": {
    "name": "ipython",
    "version": 3
   },
   "file_extension": ".py",
   "mimetype": "text/x-python",
   "name": "python",
   "nbconvert_exporter": "python",
   "pygments_lexer": "ipython3",
   "version": "3.7.4"
  }
 },
 "nbformat": 4,
 "nbformat_minor": 2
}
