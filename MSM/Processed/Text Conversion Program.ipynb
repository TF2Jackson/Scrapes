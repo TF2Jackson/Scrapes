{
 "cells": [
  {
   "cell_type": "code",
   "execution_count": 1,
   "metadata": {},
   "outputs": [
    {
     "ename": "FileNotFoundError",
     "evalue": "[Errno 2] No such file or directory: 'Regular Control_2020-03-09.csv'",
     "output_type": "error",
     "traceback": [
      "\u001b[0;31m---------------------------------------------------------------------------\u001b[0m",
      "\u001b[0;31mFileNotFoundError\u001b[0m                         Traceback (most recent call last)",
      "\u001b[0;32m<ipython-input-1-52e567aeffbc>\u001b[0m in \u001b[0;36m<module>\u001b[0;34m\u001b[0m\n\u001b[1;32m     32\u001b[0m     \u001b[0mtxt\u001b[0m \u001b[0;34m=\u001b[0m \u001b[0;34m[\u001b[0m\u001b[0;34m]\u001b[0m\u001b[0;34m\u001b[0m\u001b[0;34m\u001b[0m\u001b[0m\n\u001b[1;32m     33\u001b[0m \u001b[0;34m\u001b[0m\u001b[0m\n\u001b[0;32m---> 34\u001b[0;31m     \u001b[0;32mwith\u001b[0m \u001b[0mopen\u001b[0m\u001b[0;34m(\u001b[0m\u001b[0mi\u001b[0m\u001b[0;34m,\u001b[0m\u001b[0;34m'r'\u001b[0m\u001b[0;34m,\u001b[0m \u001b[0merrors\u001b[0m\u001b[0;34m=\u001b[0m\u001b[0;34m'ignore'\u001b[0m\u001b[0;34m)\u001b[0m \u001b[0;32mas\u001b[0m \u001b[0mfo\u001b[0m\u001b[0;34m:\u001b[0m\u001b[0;34m\u001b[0m\u001b[0;34m\u001b[0m\u001b[0m\n\u001b[0m\u001b[1;32m     35\u001b[0m         \u001b[0mrows\u001b[0m \u001b[0;34m=\u001b[0m \u001b[0mcsv\u001b[0m\u001b[0;34m.\u001b[0m\u001b[0mreader\u001b[0m\u001b[0;34m(\u001b[0m\u001b[0mfo\u001b[0m\u001b[0;34m)\u001b[0m\u001b[0;34m\u001b[0m\u001b[0;34m\u001b[0m\u001b[0m\n\u001b[1;32m     36\u001b[0m         \u001b[0;32mfor\u001b[0m \u001b[0mx\u001b[0m \u001b[0;32min\u001b[0m \u001b[0mrows\u001b[0m\u001b[0;34m:\u001b[0m\u001b[0;34m\u001b[0m\u001b[0;34m\u001b[0m\u001b[0m\n",
      "\u001b[0;31mFileNotFoundError\u001b[0m: [Errno 2] No such file or directory: 'Regular Control_2020-03-09.csv'"
     ]
    }
   ],
   "source": [
    "import datetime\n",
    "from datetime import date\n",
    "import csv\n",
    "\n",
    "today = date.today()\n",
    "\n",
    "files = ['Regular Control_2020-02-18.csv',\n",
    "         'Regular Control_2020-02-19.csv',\n",
    "         'Regular Control_2020-02-20.csv', \n",
    "         'Regular Control_2020-02-21.csv', \n",
    "         'Regular Control_2020-02-22.csv', \n",
    "         'Regular Control_2020-02-23.csv', \n",
    "         'Regular Control_2020-02-24.csv', \n",
    "         'Regular Control_2020-02-25.csv',\n",
    "         'Regular Control_2020-02-26.csv', \n",
    "         'Regular Control_2020-02-27.csv', \n",
    "         'Regular Control_2020-02-28.csv', \n",
    "         'Regular Control_2020-03-01.csv', \n",
    "         'Regular Control_2020-03-02.csv', \n",
    "         'Regular Control_2020-03-03.csv', \n",
    "         'Regular Control_2020-03-04.csv', \n",
    "         'Regular Control_2020-03-05.csv', \n",
    "         'Regular Control_2020-03-06.csv', \n",
    "         'Regular Control_2020-03-07.csv', \n",
    "         'Regular Control_2020-03-08.csv', \n",
    "         'Regular Control_2020-03-09.csv', \n",
    "         'Regular Control_2020-03-10.csv', \n",
    "        ]\n",
    "\n",
    "for i in files:\n",
    "    name = f'{i}.txt'\n",
    "    txt = []\n",
    "    \n",
    "    with open(i,'r', errors='ignore') as fo:\n",
    "        rows = csv.reader(fo)\n",
    "        for x in rows:\n",
    "            txt.append(x[1])\n",
    "            text = str(txt)\n",
    "    with open(f'{name}', 'w') as fo1:\n",
    "        fo1.write(text)  \n",
    "            \n",
    "                \n",
    "            \n",
    "            \n",
    "        "
   ]
  }
 ],
 "metadata": {
  "kernelspec": {
   "display_name": "Python 3",
   "language": "python",
   "name": "python3"
  },
  "language_info": {
   "codemirror_mode": {
    "name": "ipython",
    "version": 3
   },
   "file_extension": ".py",
   "mimetype": "text/x-python",
   "name": "python",
   "nbconvert_exporter": "python",
   "pygments_lexer": "ipython3",
   "version": "3.7.4"
  }
 },
 "nbformat": 4,
 "nbformat_minor": 2
}
