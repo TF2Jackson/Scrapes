{
 "cells": [
  {
   "cell_type": "code",
   "execution_count": 2,
   "metadata": {},
   "outputs": [
    {
     "ename": "TypeError",
     "evalue": "'errrors' is an invalid keyword argument for open()",
     "output_type": "error",
     "traceback": [
      "\u001b[0;31m---------------------------------------------------------------------------\u001b[0m",
      "\u001b[0;31mTypeError\u001b[0m                                 Traceback (most recent call last)",
      "\u001b[0;32m<ipython-input-2-0167dfbeb90b>\u001b[0m in \u001b[0;36m<module>\u001b[0;34m\u001b[0m\n\u001b[1;32m     25\u001b[0m \u001b[0;34m\u001b[0m\u001b[0m\n\u001b[1;32m     26\u001b[0m \u001b[0;32mfor\u001b[0m \u001b[0mi\u001b[0m \u001b[0;32min\u001b[0m \u001b[0mfiles\u001b[0m\u001b[0;34m:\u001b[0m\u001b[0;34m\u001b[0m\u001b[0;34m\u001b[0m\u001b[0m\n\u001b[0;32m---> 27\u001b[0;31m     \u001b[0;32mwith\u001b[0m \u001b[0mopen\u001b[0m \u001b[0;34m(\u001b[0m\u001b[0mi\u001b[0m\u001b[0;34m,\u001b[0m \u001b[0;34m'r'\u001b[0m\u001b[0;34m,\u001b[0m \u001b[0merrrors\u001b[0m \u001b[0;34m=\u001b[0m \u001b[0;34m'ignore'\u001b[0m\u001b[0;34m)\u001b[0m \u001b[0;32mas\u001b[0m \u001b[0mfo\u001b[0m\u001b[0;34m:\u001b[0m\u001b[0;34m\u001b[0m\u001b[0;34m\u001b[0m\u001b[0m\n\u001b[0m\u001b[1;32m     28\u001b[0m          \u001b[0mprint\u001b[0m\u001b[0;34m(\u001b[0m\u001b[0mfo\u001b[0m\u001b[0;34m)\u001b[0m\u001b[0;34m\u001b[0m\u001b[0;34m\u001b[0m\u001b[0m\n",
      "\u001b[0;31mTypeError\u001b[0m: 'errrors' is an invalid keyword argument for open()"
     ]
    }
   ],
   "source": [
    "import csv\n",
    "\n",
    "files = ['#Alt_Right_2020-02-18.csv',\n",
    "         '#Alt_Right_2020-02-19.csv',\n",
    "         '#Alt_Right_2020-02-20.csv', \n",
    "         '#Alt_Right_2020-02-21.csv', \n",
    "         '#Alt_Right_2020-02-22.csv', \n",
    "         '#Alt_Right_2020-02-23.csv', \n",
    "         '#Alt_Right_2020-02-24.csv', \n",
    "         '#Alt_Right_2020-02-25.csv',\n",
    "         '#Alt_Right_2020-02-26.csv', \n",
    "         '#Alt_Right_2020-02-27.csv', \n",
    "         '#Alt_Right_2020-02-28.csv', \n",
    "         '#Alt_Right_2020-03-01.csv', \n",
    "         '#Alt_Right_2020-03-02.csv', \n",
    "         '#Alt_Right_2020-03-03.csv', \n",
    "         '#Alt_Right_2020-03-04.csv', \n",
    "         '#Alt_Right_2020-03-05.csv', \n",
    "         '#Alt_Right_2020-03-06.csv', \n",
    "         '#Alt_Right_2020-03-07.csv', \n",
    "         '#Alt_Right_2020-03-08.csv', \n",
    "         '#Alt_Right_2020-03-09.csv', \n",
    "         '#Alt_Right_2020-03-10.csv', \n",
    "        ]\n",
    "         \n",
    "for i in files:\n",
    "    with open (i, 'r', errors = 'ignore') as fo:\n",
    "         print(fo)"
   ]
  }
 ],
 "metadata": {
  "kernelspec": {
   "display_name": "Python 3",
   "language": "python",
   "name": "python3"
  },
  "language_info": {
   "codemirror_mode": {
    "name": "ipython",
    "version": 3
   },
   "file_extension": ".py",
   "mimetype": "text/x-python",
   "name": "python",
   "nbconvert_exporter": "python",
   "pygments_lexer": "ipython3",
   "version": "3.7.4"
  }
 },
 "nbformat": 4,
 "nbformat_minor": 2
}
